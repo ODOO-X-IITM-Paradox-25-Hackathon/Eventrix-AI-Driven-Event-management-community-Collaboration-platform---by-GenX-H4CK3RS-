{
  "nbformat": 4,
  "nbformat_minor": 0,
  "metadata": {
    "colab": {
      "provenance": []
    },
    "kernelspec": {
      "name": "python3",
      "display_name": "Python 3"
    },
    "language_info": {
      "name": "python"
    }
  },
  "cells": [
    {
      "cell_type": "markdown",
      "source": [
        "# **Success Prediction with Random Forest**"
      ],
      "metadata": {
        "id": "aa1ACudHsCW5"
      }
    },
    {
      "cell_type": "code",
      "execution_count": 8,
      "metadata": {
        "colab": {
          "base_uri": "https://localhost:8080/"
        },
        "id": "cz0kWQIMmaTT",
        "outputId": "b217d50d-cc20-4974-fe87-cb965694e6ee"
      },
      "outputs": [
        {
          "output_type": "stream",
          "name": "stdout",
          "text": [
            "    speaker_popularity                                   event_type  \\\n",
            "0             0.374540         Event for Gamers and Game Developers   \n",
            "1             0.950714  Event for Investors and Venture Capitalists   \n",
            "2             0.731994                      Event for Entrepreneurs   \n",
            "3             0.598658         Event for Gamers and Game Developers   \n",
            "4             0.156019      Event for Students and Aspiring Techies   \n",
            "5             0.155995                 Event for Tech Professionals   \n",
            "6             0.058084         Event for Gamers and Game Developers   \n",
            "7             0.866176    Event for Industry-Specific Professionals   \n",
            "8             0.601115  Event for Investors and Venture Capitalists   \n",
            "9             0.708073         Event for Gamers and Game Developers   \n",
            "10            0.020584            Event for Tech Media and Bloggers   \n",
            "11            0.969910                 Event for Tech Professionals   \n",
            "\n",
            "    marketing_spend  event_day  location_score  predicted_success_probability  \n",
            "0              9666          1        0.563288                           0.75  \n",
            "1              3558          3        0.385417                           0.98  \n",
            "2              8849          5        0.015966                           0.98  \n",
            "3              3047          3        0.230894                           0.97  \n",
            "4              3747          7        0.241025                           0.86  \n",
            "5              1189          5        0.683264                           0.94  \n",
            "6              3734          1        0.609997                           0.27  \n",
            "7              4005          7        0.833195                           0.31  \n",
            "8              5658          2        0.173365                           0.95  \n",
            "9              2899          4        0.391061                           0.97  \n",
            "10             8734          1        0.182236                           0.84  \n",
            "11             2267          4        0.755361                           0.97  \n"
          ]
        }
      ],
      "source": [
        "import pandas as pd\n",
        "import numpy as np\n",
        "from sklearn.preprocessing import StandardScaler\n",
        "from sklearn.ensemble import RandomForestClassifier\n",
        "\n",
        "event_classes = [\n",
        "    \"Event for Tech Professionals\",\n",
        "    \"Event for Entrepreneurs\",\n",
        "    \"Event for Product Managers and UX Designers\",\n",
        "    \"Event for C-Suite Executives\",\n",
        "    \"Event for Students and Aspiring Techies\",\n",
        "    \"Event for Investors and Venture Capitalists\",\n",
        "    \"Event for Tech Enthusiasts and Hobbyists\",\n",
        "    \"Event for Academics and Researchers\",\n",
        "    \"Event for Tech Media and Bloggers\",\n",
        "    \"Event for Industry-Specific Professionals\",\n",
        "    \"Event for Open Source Contributors\",\n",
        "    \"Event for Gamers and Game Developers\"\n",
        "]\n",
        "\n",
        "np.random.seed(42)\n",
        "n_rows = 12\n",
        "\n",
        "\n",
        "speaker_popularity = np.random.rand(n_rows)\n",
        "event_type = np.random.choice(event_classes, n_rows)\n",
        "marketing_spend = np.random.randint(1000, 10001, n_rows)\n",
        "event_day = np.random.randint(1, 8, n_rows)\n",
        "location_score = np.random.rand(n_rows)\n",
        "\n",
        "new_data = pd.DataFrame({\n",
        "    'speaker_popularity': speaker_popularity,\n",
        "    'event_type': event_type,\n",
        "    'marketing_spend': marketing_spend,\n",
        "    'event_day': event_day,\n",
        "    'location_score': location_score\n",
        "})\n",
        "\n",
        "# One-hot encode event_type\n",
        "X_encoded = pd.get_dummies(new_data, columns=['event_type'])\n",
        "\n",
        "# Dummy target to fit the model\n",
        "y_dummy = np.random.randint(0, 2, len(X_encoded))\n",
        "\n",
        "# Scale features\n",
        "scaler = StandardScaler()\n",
        "X_scaled = scaler.fit_transform(X_encoded)\n",
        "\n",
        "# Train Random Forest\n",
        "model = RandomForestClassifier(random_state=42)\n",
        "model.fit(X_scaled, y_dummy)\n",
        "\n",
        "# Predict success probabilities\n",
        "success_probs = model.predict_proba(X_scaled)[:, 1]\n",
        "\n",
        "# Add predictions to dataframe\n",
        "new_data['predicted_success_probability'] = success_probs\n",
        "\n",
        "# Show results\n",
        "#print(new_data[['event_type', 'predicted_success_probability']])\n",
        "print(new_data)\n"
      ]
    }
  ]
}